{
 "cells": [
  {
   "cell_type": "code",
   "execution_count": 44,
   "metadata": {
    "ExecuteTime": {
     "end_time": "2024-09-15T17:30:22.349808Z",
     "start_time": "2024-09-15T17:30:22.310722Z"
    },
    "collapsed": true
   },
   "outputs": [],
   "source": [
    "import pandas as pd\n",
    "\n",
    "# 文件路径\n",
    "train_path = \"/home/lc/code/ai/house_pred/train.csv\"\n",
    "test_path = \"/home/lc/code/ai/house_pred/test.csv\"\n",
    "# 读取文件\n",
    "train_data = pd.read_csv(train_path, index_col=\"Id\")\n",
    "test_data = pd.read_csv(test_path, index_col=\"Id\")"
   ]
  },
  {
   "cell_type": "code",
   "execution_count": 45,
   "metadata": {
    "ExecuteTime": {
     "end_time": "2024-09-15T17:54:17.705761Z",
     "start_time": "2024-09-15T17:54:17.679473Z"
    },
    "collapsed": false
   },
   "outputs": [],
   "source": [
    "# 选择预测目标和特征变量\n",
    "y = train_data.SalePrice\n",
    "X = train_data.drop([\"SalePrice\"], axis=\"columns\")"
   ]
  },
  {
   "cell_type": "code",
   "execution_count": 46,
   "metadata": {
    "collapsed": false
   },
   "outputs": [],
   "source": [
    "from sklearn.impute import SimpleImputer\n",
    "\n",
    "# 分离数值型和字符型数据\n",
    "numeric_X = X.select_dtypes(include=[\"int64\", \"float64\"])\n",
    "numeric_X_test = test_data.select_dtypes(include=[\"int64\", \"float64\"])\n",
    "\n",
    "str_X = X.select_dtypes(include=[\"object\"])\n",
    "str_X_test = test_data.select_dtypes(include=[\"object\"])\n",
    "\n",
    "# 对数值型数据进行mean处理\n",
    "numeric_imputer = SimpleImputer(strategy=\"mean\")\n",
    "numeric_imputed_X = pd.DataFrame(\n",
    "    numeric_imputer.fit_transform(numeric_X), columns=numeric_X.columns, index=X.index\n",
    ")\n",
    "numeric_imputed_X_test = pd.DataFrame(\n",
    "    numeric_imputer.transform(numeric_X_test),\n",
    "    columns=numeric_X.columns,\n",
    "    index=numeric_X_test.index,\n",
    ")"
   ]
  },
  {
   "cell_type": "code",
   "execution_count": 47,
   "metadata": {},
   "outputs": [],
   "source": [
    "# 对字符型数据进行处理\n",
    "str_imputer = SimpleImputer(strategy=\"most_frequent\")\n",
    "str_imputed_X = pd.DataFrame(\n",
    "    str_imputer.fit_transform(str_X), columns=str_X.columns, index=X.index\n",
    ")\n",
    "str_imputed_X_test = pd.DataFrame(\n",
    "    str_imputer.transform(str_X_test), columns=str_X.columns, index=str_X_test.index\n",
    ")\n",
    "\n",
    "# 数据合并\n",
    "imputed_X = pd.concat([str_imputed_X, numeric_imputed_X], axis=\"columns\")\n",
    "imputed_X_test = pd.concat([str_imputed_X_test, numeric_imputed_X_test], axis=\"columns\")\n",
    "\n",
    "# 确保列名一致\n",
    "imputed_X.columns = X.columns\n",
    "imputed_X_test.columns = test_data.columns"
   ]
  },
  {
   "cell_type": "code",
   "execution_count": 48,
   "metadata": {
    "collapsed": false
   },
   "outputs": [],
   "source": [
    "# 划分训练集和测试集\n",
    "from sklearn.model_selection import train_test_split\n",
    "\n",
    "train_X, val_X, train_y, val_y = train_test_split(imputed_X, y, random_state=0)"
   ]
  },
  {
   "cell_type": "code",
   "execution_count": 49,
   "metadata": {
    "collapsed": false
   },
   "outputs": [],
   "source": [
    "# 选择基数较少的列进行独热编码\n",
    "categorical_cols = [\n",
    "    cols\n",
    "    for cols in train_X.columns\n",
    "    if train_X[cols].nunique() < 10 and train_X[cols].dtype == \"object\"\n",
    "]\n",
    "\n",
    "from sklearn.preprocessing import OneHotEncoder\n",
    "\n",
    "# 创建并拟合独热编码器\n",
    "onehot_encoder = OneHotEncoder(handle_unknown=\"ignore\", sparse=False)\n",
    "onehot_encoder.fit(train_X[categorical_cols])\n",
    "\n",
    "# 对训练集进行独热编码\n",
    "onehot_train_col = pd.DataFrame(\n",
    "    onehot_encoder.transform(train_X[categorical_cols]), index=train_X.index\n",
    ")\n",
    "\n",
    "# 对验证集进行独热编码\n",
    "onehot_val_col = pd.DataFrame(\n",
    "    onehot_encoder.transform(val_X[categorical_cols]), index=val_X.index\n",
    ")\n",
    "\n",
    "# 对测试集进行独热编码\n",
    "onehot_test_col = pd.DataFrame(\n",
    "    onehot_encoder.transform(imputed_X_test[categorical_cols]),\n",
    "    index=imputed_X_test.index,\n",
    ")\n",
    "\n",
    "# 删除原来的分类列\n",
    "train_X_col = train_X.drop(categorical_cols, axis=\"columns\")\n",
    "val_X_col = val_X.drop(categorical_cols, axis=\"columns\")\n",
    "test_X_col = imputed_X_test.drop(categorical_cols, axis=\"columns\")\n",
    "\n",
    "# 合并独热编码后的列和原来的数值列\n",
    "train_X = pd.concat([onehot_train_col, train_X_col], axis=\"columns\")\n",
    "val_X = pd.concat([onehot_val_col, val_X_col], axis=\"columns\")\n",
    "X_test = pd.concat([onehot_test_col, test_X_col], axis=\"columns\")\n",
    "\n",
    "# 确保列名都是字符串\n",
    "train_X.columns = train_X.columns.astype(str)\n",
    "val_X.columns = val_X.columns.astype(str)\n",
    "X_test.columns = X_test.columns.astype(str)"
   ]
  },
  {
   "cell_type": "code",
   "execution_count": 50,
   "metadata": {},
   "outputs": [
    {
     "data": {
      "text/plain": [
       "MSSubClass        object\n",
       "MSZoning          object\n",
       "LotFrontage       object\n",
       "LotArea           object\n",
       "Street            object\n",
       "                  ...   \n",
       "MiscVal          float64\n",
       "MoSold           float64\n",
       "YrSold           float64\n",
       "SaleType         float64\n",
       "SaleCondition    float64\n",
       "Length: 79, dtype: object"
      ]
     },
     "execution_count": 50,
     "metadata": {},
     "output_type": "execute_result"
    }
   ],
   "source": [
    "imputed_X.dtypes"
   ]
  },
  {
   "cell_type": "code",
   "execution_count": 51,
   "metadata": {},
   "outputs": [
    {
     "name": "stdout",
     "output_type": "stream",
     "text": [
      "['Utilities', 'HouseStyle', 'OverallQual']\n"
     ]
    }
   ],
   "source": [
    "# 找出不属于float64类型的数据\n",
    "train_X_dtype = [col for col in train_X.columns if train_X[col].dtype != \"float64\"]\n",
    "print(train_X_dtype)\n",
    "# TODO:删除object类型的列，还未学习到处理该列的过程\n",
    "cols_to_drop = [\"Utilities\", \"HouseStyle\", \"OverallQual\"]\n",
    "train_X = train_X.drop(cols_to_drop, axis=\"columns\")\n",
    "val_X = val_X.drop(cols_to_drop, axis=\"columns\")\n",
    "X_test = X_test.drop(cols_to_drop, axis=\"columns\")"
   ]
  },
  {
   "cell_type": "code",
   "execution_count": 52,
   "metadata": {},
   "outputs": [
    {
     "name": "stdout",
     "output_type": "stream",
     "text": [
      "所有列是否都是数值型: True\n"
     ]
    }
   ],
   "source": [
    "# 检查数据框的所有列类型\n",
    "num_cols = val_X.select_dtypes(include=[\"number\"])\n",
    "\n",
    "# 判断是否所有列都是数值型\n",
    "is_all_numeric = len(num_cols.columns) == len(val_X.columns)\n",
    "\n",
    "print(\"所有列是否都是数值型:\", is_all_numeric)"
   ]
  },
  {
   "cell_type": "code",
   "execution_count": 53,
   "metadata": {},
   "outputs": [
    {
     "name": "stderr",
     "output_type": "stream",
     "text": [
      "\u001b[32m[I 2024-09-24 12:25:11,500]\u001b[0m A new study created in memory with name: no-name-46e8b441-6b0e-4e74-a7bd-5dcab39be60c\u001b[0m\n",
      "\u001b[32m[I 2024-09-24 12:25:13,454]\u001b[0m Trial 0 finished with value: 18084.38733262585 and parameters: {'n_estimators': 138, 'max_depth': 11, 'max_features': 0.4172286310596467, 'min_samples_split': 18, 'min_samples_leaf': 3}. Best is trial 0 with value: 18084.38733262585.\u001b[0m\n",
      "\u001b[32m[I 2024-09-24 12:25:16,061]\u001b[0m Trial 1 finished with value: 18441.25606142413 and parameters: {'n_estimators': 178, 'max_depth': 23, 'max_features': 0.5041668777986215, 'min_samples_split': 14, 'min_samples_leaf': 9}. Best is trial 0 with value: 18084.38733262585.\u001b[0m\n",
      "\u001b[32m[I 2024-09-24 12:25:16,553]\u001b[0m Trial 2 finished with value: 19860.56324062345 and parameters: {'n_estimators': 35, 'max_depth': 6, 'max_features': 0.5814407295858671, 'min_samples_split': 2, 'min_samples_leaf': 12}. Best is trial 0 with value: 18084.38733262585.\u001b[0m\n",
      "\u001b[32m[I 2024-09-24 12:25:19,614]\u001b[0m Trial 3 finished with value: 17503.065457279117 and parameters: {'n_estimators': 273, 'max_depth': 29, 'max_features': 0.3060647442315413, 'min_samples_split': 2, 'min_samples_leaf': 5}. Best is trial 3 with value: 17503.065457279117.\u001b[0m\n",
      "\u001b[32m[I 2024-09-24 12:25:21,015]\u001b[0m Trial 4 finished with value: 29983.24400626903 and parameters: {'n_estimators': 168, 'max_depth': 2, 'max_features': 0.8325167863978213, 'min_samples_split': 11, 'min_samples_leaf': 1}. Best is trial 3 with value: 17503.065457279117.\u001b[0m\n",
      "\u001b[32m[I 2024-09-24 12:25:25,224]\u001b[0m Trial 5 finished with value: 20421.650846256183 and parameters: {'n_estimators': 230, 'max_depth': 26, 'max_features': 0.879869348793908, 'min_samples_split': 14, 'min_samples_leaf': 17}. Best is trial 3 with value: 17503.065457279117.\u001b[0m\n",
      "\u001b[32m[I 2024-09-24 12:25:26,835]\u001b[0m Trial 6 finished with value: 20195.605945250427 and parameters: {'n_estimators': 183, 'max_depth': 15, 'max_features': 0.3509100054228793, 'min_samples_split': 3, 'min_samples_leaf': 19}. Best is trial 3 with value: 17503.065457279117.\u001b[0m\n",
      "\u001b[32m[I 2024-09-24 12:25:28,393]\u001b[0m Trial 7 finished with value: 20055.355528055698 and parameters: {'n_estimators': 149, 'max_depth': 30, 'max_features': 0.43141950666102824, 'min_samples_split': 8, 'min_samples_leaf': 18}. Best is trial 3 with value: 17503.065457279117.\u001b[0m\n",
      "\u001b[32m[I 2024-09-24 12:25:32,222]\u001b[0m Trial 8 finished with value: 18908.343173714456 and parameters: {'n_estimators': 170, 'max_depth': 27, 'max_features': 0.8753864639443015, 'min_samples_split': 5, 'min_samples_leaf': 9}. Best is trial 3 with value: 17503.065457279117.\u001b[0m\n",
      "\u001b[32m[I 2024-09-24 12:25:32,875]\u001b[0m Trial 9 finished with value: 19357.68288665823 and parameters: {'n_estimators': 47, 'max_depth': 30, 'max_features': 0.5227139557179622, 'min_samples_split': 7, 'min_samples_leaf': 14}. Best is trial 3 with value: 17503.065457279117.\u001b[0m\n",
      "\u001b[32m[I 2024-09-24 12:25:34,685]\u001b[0m Trial 10 finished with value: 18751.55979349745 and parameters: {'n_estimators': 287, 'max_depth': 20, 'max_features': 0.14219487630957445, 'min_samples_split': 20, 'min_samples_leaf': 5}. Best is trial 3 with value: 17503.065457279117.\u001b[0m\n",
      "\u001b[32m[I 2024-09-24 12:25:35,521]\u001b[0m Trial 11 finished with value: 18361.881368546474 and parameters: {'n_estimators': 95, 'max_depth': 13, 'max_features': 0.21511856665966667, 'min_samples_split': 20, 'min_samples_leaf': 3}. Best is trial 3 with value: 17503.065457279117.\u001b[0m\n",
      "\u001b[32m[I 2024-09-24 12:25:38,692]\u001b[0m Trial 12 finished with value: 18038.87727221388 and parameters: {'n_estimators': 295, 'max_depth': 10, 'max_features': 0.30742690565682373, 'min_samples_split': 16, 'min_samples_leaf': 6}. Best is trial 3 with value: 17503.065457279117.\u001b[0m\n",
      "\u001b[32m[I 2024-09-24 12:25:41,686]\u001b[0m Trial 13 finished with value: 18001.401187763968 and parameters: {'n_estimators': 296, 'max_depth': 19, 'max_features': 0.2852685590481232, 'min_samples_split': 15, 'min_samples_leaf': 7}. Best is trial 3 with value: 17503.065457279117.\u001b[0m\n",
      "\u001b[32m[I 2024-09-24 12:25:46,714]\u001b[0m Trial 14 finished with value: 18182.67852532457 and parameters: {'n_estimators': 258, 'max_depth': 19, 'max_features': 0.6443585074364521, 'min_samples_split': 10, 'min_samples_leaf': 7}. Best is trial 3 with value: 17503.065457279117.\u001b[0m\n",
      "\u001b[32m[I 2024-09-24 12:25:48,572]\u001b[0m Trial 15 finished with value: 19027.799680045413 and parameters: {'n_estimators': 228, 'max_depth': 32, 'max_features': 0.23217462903528097, 'min_samples_split': 14, 'min_samples_leaf': 12}. Best is trial 3 with value: 17503.065457279117.\u001b[0m\n",
      "\u001b[32m[I 2024-09-24 12:25:50,089]\u001b[0m Trial 16 finished with value: 18853.21934646796 and parameters: {'n_estimators': 238, 'max_depth': 23, 'max_features': 0.12808121876826384, 'min_samples_split': 9, 'min_samples_leaf': 8}. Best is trial 3 with value: 17503.065457279117.\u001b[0m\n",
      "\u001b[32m[I 2024-09-24 12:25:56,355]\u001b[0m Trial 17 finished with value: 17764.055934712316 and parameters: {'n_estimators': 271, 'max_depth': 17, 'max_features': 0.6519475374938914, 'min_samples_split': 5, 'min_samples_leaf': 4}. Best is trial 3 with value: 17503.065457279117.\u001b[0m\n",
      "\u001b[32m[I 2024-09-24 12:26:01,582]\u001b[0m Trial 18 finished with value: 17780.66136606731 and parameters: {'n_estimators': 202, 'max_depth': 23, 'max_features': 0.7251932648858426, 'min_samples_split': 5, 'min_samples_leaf': 4}. Best is trial 3 with value: 17503.065457279117.\u001b[0m\n",
      "\u001b[32m[I 2024-09-24 12:26:10,919]\u001b[0m Trial 19 finished with value: 17540.955599396468 and parameters: {'n_estimators': 266, 'max_depth': 15, 'max_features': 0.7622633738579686, 'min_samples_split': 4, 'min_samples_leaf': 1}. Best is trial 3 with value: 17503.065457279117.\u001b[0m\n",
      "\u001b[32m[I 2024-09-24 12:26:14,814]\u001b[0m Trial 20 finished with value: 18468.110365453012 and parameters: {'n_estimators': 116, 'max_depth': 8, 'max_features': 0.9514630740222265, 'min_samples_split': 2, 'min_samples_leaf': 1}. Best is trial 3 with value: 17503.065457279117.\u001b[0m\n",
      "\u001b[32m[I 2024-09-24 12:26:23,520]\u001b[0m Trial 21 finished with value: 17533.162029573814 and parameters: {'n_estimators': 266, 'max_depth': 16, 'max_features': 0.7300034504218145, 'min_samples_split': 5, 'min_samples_leaf': 1}. Best is trial 3 with value: 17503.065457279117.\u001b[0m\n",
      "\u001b[32m[I 2024-09-24 12:26:32,890]\u001b[0m Trial 22 finished with value: 17672.343794099244 and parameters: {'n_estimators': 263, 'max_depth': 15, 'max_features': 0.755347675513889, 'min_samples_split': 4, 'min_samples_leaf': 1}. Best is trial 3 with value: 17503.065457279117.\u001b[0m\n",
      "\u001b[32m[I 2024-09-24 12:26:39,408]\u001b[0m Trial 23 finished with value: 17833.595358959785 and parameters: {'n_estimators': 207, 'max_depth': 14, 'max_features': 0.7837025918558618, 'min_samples_split': 7, 'min_samples_leaf': 2}. Best is trial 3 with value: 17503.065457279117.\u001b[0m\n",
      "\u001b[32m[I 2024-09-24 12:26:45,418]\u001b[0m Trial 24 finished with value: 17971.619229281285 and parameters: {'n_estimators': 249, 'max_depth': 18, 'max_features': 0.6840111786000358, 'min_samples_split': 6, 'min_samples_leaf': 5}. Best is trial 3 with value: 17503.065457279117.\u001b[0m\n",
      "\u001b[32m[I 2024-09-24 12:26:50,404]\u001b[0m Trial 25 finished with value: 17454.83289320788 and parameters: {'n_estimators': 212, 'max_depth': 21, 'max_features': 0.5583964091839435, 'min_samples_split': 3, 'min_samples_leaf': 3}. Best is trial 25 with value: 17454.83289320788.\u001b[0m\n",
      "\u001b[32m[I 2024-09-24 12:26:55,771]\u001b[0m Trial 26 finished with value: 17477.273016718227 and parameters: {'n_estimators': 212, 'max_depth': 26, 'max_features': 0.5952108979938086, 'min_samples_split': 2, 'min_samples_leaf': 3}. Best is trial 25 with value: 17454.83289320788.\u001b[0m\n",
      "\u001b[32m[I 2024-09-24 12:27:00,738]\u001b[0m Trial 27 finished with value: 17408.7925045153 and parameters: {'n_estimators': 205, 'max_depth': 26, 'max_features': 0.5739101667238744, 'min_samples_split': 2, 'min_samples_leaf': 3}. Best is trial 27 with value: 17408.7925045153.\u001b[0m\n",
      "\u001b[32m[I 2024-09-24 12:27:05,804]\u001b[0m Trial 28 finished with value: 17406.383633877525 and parameters: {'n_estimators': 202, 'max_depth': 25, 'max_features': 0.5805326677947623, 'min_samples_split': 3, 'min_samples_leaf': 3}. Best is trial 28 with value: 17406.383633877525.\u001b[0m\n",
      "\u001b[32m[I 2024-09-24 12:27:08,371]\u001b[0m Trial 29 finished with value: 17478.563366594994 and parameters: {'n_estimators': 126, 'max_depth': 21, 'max_features': 0.46493665870533063, 'min_samples_split': 3, 'min_samples_leaf': 3}. Best is trial 28 with value: 17406.383633877525.\u001b[0m\n",
      "\u001b[32m[I 2024-09-24 12:27:10,881]\u001b[0m Trial 30 finished with value: 18636.856842814617 and parameters: {'n_estimators': 199, 'max_depth': 24, 'max_features': 0.38542784880224945, 'min_samples_split': 12, 'min_samples_leaf': 11}. Best is trial 28 with value: 17406.383633877525.\u001b[0m\n",
      "\u001b[32m[I 2024-09-24 12:27:16,643]\u001b[0m Trial 31 finished with value: 17413.86040548316 and parameters: {'n_estimators': 217, 'max_depth': 26, 'max_features': 0.5847964209376848, 'min_samples_split': 3, 'min_samples_leaf': 3}. Best is trial 28 with value: 17406.383633877525.\u001b[0m\n",
      "\u001b[32m[I 2024-09-24 12:27:21,208]\u001b[0m Trial 32 finished with value: 17507.92198777216 and parameters: {'n_estimators': 191, 'max_depth': 27, 'max_features': 0.5553573874197335, 'min_samples_split': 4, 'min_samples_leaf': 4}. Best is trial 28 with value: 17406.383633877525.\u001b[0m\n",
      "\u001b[32m[I 2024-09-24 12:27:25,312]\u001b[0m Trial 33 finished with value: 17839.95990334827 and parameters: {'n_estimators': 222, 'max_depth': 22, 'max_features': 0.48813112055089336, 'min_samples_split': 3, 'min_samples_leaf': 6}. Best is trial 28 with value: 17406.383633877525.\u001b[0m\n",
      "\u001b[32m[I 2024-09-24 12:27:31,748]\u001b[0m Trial 34 finished with value: 17557.69792991886 and parameters: {'n_estimators': 244, 'max_depth': 25, 'max_features': 0.6020274016499113, 'min_samples_split': 7, 'min_samples_leaf': 2}. Best is trial 28 with value: 17406.383633877525.\u001b[0m\n",
      "\u001b[32m[I 2024-09-24 12:27:34,818]\u001b[0m Trial 35 finished with value: 17848.628546465123 and parameters: {'n_estimators': 161, 'max_depth': 28, 'max_features': 0.5372585667908323, 'min_samples_split': 2, 'min_samples_leaf': 6}. Best is trial 28 with value: 17406.383633877525.\u001b[0m\n",
      "\u001b[32m[I 2024-09-24 12:27:39,611]\u001b[0m Trial 36 finished with value: 17464.630514919456 and parameters: {'n_estimators': 181, 'max_depth': 32, 'max_features': 0.6377973876468772, 'min_samples_split': 6, 'min_samples_leaf': 3}. Best is trial 28 with value: 17406.383633877525.\u001b[0m\n",
      "\u001b[32m[I 2024-09-24 12:27:41,785]\u001b[0m Trial 37 finished with value: 18190.901210428794 and parameters: {'n_estimators': 143, 'max_depth': 25, 'max_features': 0.43734792402509104, 'min_samples_split': 3, 'min_samples_leaf': 8}. Best is trial 28 with value: 17406.383633877525.\u001b[0m\n",
      "\u001b[32m[I 2024-09-24 12:27:44,934]\u001b[0m Trial 38 finished with value: 19306.002693382947 and parameters: {'n_estimators': 225, 'max_depth': 21, 'max_features': 0.4874063627570906, 'min_samples_split': 4, 'min_samples_leaf': 14}. Best is trial 28 with value: 17406.383633877525.\u001b[0m\n",
      "\u001b[32m[I 2024-09-24 12:27:49,950]\u001b[0m Trial 39 finished with value: 17254.72461427104 and parameters: {'n_estimators': 185, 'max_depth': 30, 'max_features': 0.5775404918569783, 'min_samples_split': 2, 'min_samples_leaf': 2}. Best is trial 39 with value: 17254.72461427104.\u001b[0m\n",
      "\u001b[32m[I 2024-09-24 12:27:50,301]\u001b[0m Trial 40 finished with value: 19424.69213892019 and parameters: {'n_estimators': 10, 'max_depth': 30, 'max_features': 0.6882638298699052, 'min_samples_split': 2, 'min_samples_leaf': 2}. Best is trial 39 with value: 17254.72461427104.\u001b[0m\n",
      "\u001b[32m[I 2024-09-24 12:27:54,319]\u001b[0m Trial 41 finished with value: 17541.06375759975 and parameters: {'n_estimators': 185, 'max_depth': 28, 'max_features': 0.5635005317673929, 'min_samples_split': 3, 'min_samples_leaf': 4}. Best is trial 39 with value: 17254.72461427104.\u001b[0m\n",
      "\u001b[32m[I 2024-09-24 12:27:59,164]\u001b[0m Trial 42 finished with value: 17378.9984759797 and parameters: {'n_estimators': 172, 'max_depth': 29, 'max_features': 0.6023662515616769, 'min_samples_split': 2, 'min_samples_leaf': 2}. Best is trial 39 with value: 17254.72461427104.\u001b[0m\n",
      "\u001b[32m[I 2024-09-24 12:28:03,610]\u001b[0m Trial 43 finished with value: 17429.286371781694 and parameters: {'n_estimators': 157, 'max_depth': 29, 'max_features': 0.6079583100639261, 'min_samples_split': 2, 'min_samples_leaf': 2}. Best is trial 39 with value: 17254.72461427104.\u001b[0m\n",
      "\u001b[32m[I 2024-09-24 12:28:06,088]\u001b[0m Trial 44 finished with value: 17706.540184767662 and parameters: {'n_estimators': 130, 'max_depth': 31, 'max_features': 0.5114514909560501, 'min_samples_split': 6, 'min_samples_leaf': 5}. Best is trial 39 with value: 17254.72461427104.\u001b[0m\n",
      "\u001b[32m[I 2024-09-24 12:28:07,991]\u001b[0m Trial 45 finished with value: 20434.547283185075 and parameters: {'n_estimators': 170, 'max_depth': 28, 'max_features': 0.4079272664592193, 'min_samples_split': 4, 'min_samples_leaf': 20}. Best is trial 39 with value: 17254.72461427104.\u001b[0m\n",
      "\u001b[32m[I 2024-09-24 12:28:13,830]\u001b[0m Trial 46 finished with value: 17546.055445437858 and parameters: {'n_estimators': 194, 'max_depth': 26, 'max_features': 0.6843748107322793, 'min_samples_split': 5, 'min_samples_leaf': 2}. Best is trial 39 with value: 17254.72461427104.\u001b[0m\n",
      "\u001b[32m[I 2024-09-24 12:28:17,773]\u001b[0m Trial 47 finished with value: 17738.108790820326 and parameters: {'n_estimators': 176, 'max_depth': 29, 'max_features': 0.6317260021742834, 'min_samples_split': 2, 'min_samples_leaf': 5}. Best is trial 39 with value: 17254.72461427104.\u001b[0m\n",
      "\u001b[32m[I 2024-09-24 12:28:20,823]\u001b[0m Trial 48 finished with value: 17931.226585228906 and parameters: {'n_estimators': 102, 'max_depth': 31, 'max_features': 0.8180568090099818, 'min_samples_split': 8, 'min_samples_leaf': 4}. Best is trial 39 with value: 17254.72461427104.\u001b[0m\n",
      "\u001b[32m[I 2024-09-24 12:28:23,083]\u001b[0m Trial 49 finished with value: 19586.058577760028 and parameters: {'n_estimators': 156, 'max_depth': 24, 'max_features': 0.5183631928224577, 'min_samples_split': 12, 'min_samples_leaf': 15}. Best is trial 39 with value: 17254.72461427104.\u001b[0m\n",
      "\u001b[32m[I 2024-09-24 12:28:26,363]\u001b[0m Trial 50 finished with value: 18392.751674689694 and parameters: {'n_estimators': 218, 'max_depth': 27, 'max_features': 0.46245158236241335, 'min_samples_split': 3, 'min_samples_leaf': 9}. Best is trial 39 with value: 17254.72461427104.\u001b[0m\n",
      "\u001b[32m[I 2024-09-24 12:28:30,598]\u001b[0m Trial 51 finished with value: 17421.53432299651 and parameters: {'n_estimators': 151, 'max_depth': 29, 'max_features': 0.5996561444471789, 'min_samples_split': 2, 'min_samples_leaf': 2}. Best is trial 39 with value: 17254.72461427104.\u001b[0m\n",
      "\u001b[32m[I 2024-09-24 12:28:32,247]\u001b[0m Trial 52 finished with value: 18235.977647482745 and parameters: {'n_estimators': 79, 'max_depth': 31, 'max_features': 0.5862946377668197, 'min_samples_split': 18, 'min_samples_leaf': 2}. Best is trial 39 with value: 17254.72461427104.\u001b[0m\n",
      "\u001b[32m[I 2024-09-24 12:28:40,833]\u001b[0m Trial 53 finished with value: 17428.686268337704 and parameters: {'n_estimators': 235, 'max_depth': 29, 'max_features': 0.6452866064494515, 'min_samples_split': 2, 'min_samples_leaf': 1}. Best is trial 39 with value: 17254.72461427104.\u001b[0m\n",
      "\u001b[32m[I 2024-09-24 12:28:44,653]\u001b[0m Trial 54 finished with value: 17731.9693356446 and parameters: {'n_estimators': 145, 'max_depth': 25, 'max_features': 0.7102874289548984, 'min_samples_split': 4, 'min_samples_leaf': 4}. Best is trial 39 with value: 17254.72461427104.\u001b[0m\n",
      "\u001b[32m[I 2024-09-24 12:28:48,878]\u001b[0m Trial 55 finished with value: 17593.40252951618 and parameters: {'n_estimators': 167, 'max_depth': 30, 'max_features': 0.6153228081624406, 'min_samples_split': 3, 'min_samples_leaf': 3}. Best is trial 39 with value: 17254.72461427104.\u001b[0m\n",
      "\u001b[32m[I 2024-09-24 12:28:50,315]\u001b[0m Trial 56 finished with value: 28676.170630643763 and parameters: {'n_estimators': 193, 'max_depth': 2, 'max_features': 0.5714444899679985, 'min_samples_split': 4, 'min_samples_leaf': 7}. Best is trial 39 with value: 17254.72461427104.\u001b[0m\n",
      "\u001b[32m[I 2024-09-24 12:28:55,433]\u001b[0m Trial 57 finished with value: 17409.740155788342 and parameters: {'n_estimators': 136, 'max_depth': 27, 'max_features': 0.6691817952505231, 'min_samples_split': 2, 'min_samples_leaf': 1}. Best is trial 39 with value: 17254.72461427104.\u001b[0m\n",
      "\u001b[32m[I 2024-09-24 12:29:01,777]\u001b[0m Trial 58 finished with value: 17490.855907904515 and parameters: {'n_estimators': 182, 'max_depth': 27, 'max_features': 0.6706774181744254, 'min_samples_split': 3, 'min_samples_leaf': 1}. Best is trial 39 with value: 17254.72461427104.\u001b[0m\n",
      "\u001b[32m[I 2024-09-24 12:29:04,388]\u001b[0m Trial 59 finished with value: 17898.400866879303 and parameters: {'n_estimators': 132, 'max_depth': 24, 'max_features': 0.5369545352872368, 'min_samples_split': 5, 'min_samples_leaf': 5}. Best is trial 39 with value: 17254.72461427104.\u001b[0m\n",
      "\u001b[32m[I 2024-09-24 12:29:12,473]\u001b[0m Trial 60 finished with value: 17706.791469803815 and parameters: {'n_estimators': 281, 'max_depth': 26, 'max_features': 0.7236432116467744, 'min_samples_split': 6, 'min_samples_leaf': 3}. Best is trial 39 with value: 17254.72461427104.\u001b[0m\n",
      "\u001b[32m[I 2024-09-24 12:29:16,559]\u001b[0m Trial 61 finished with value: 17470.74138374142 and parameters: {'n_estimators': 148, 'max_depth': 28, 'max_features': 0.5942120253508235, 'min_samples_split': 2, 'min_samples_leaf': 2}. Best is trial 39 with value: 17254.72461427104.\u001b[0m\n",
      "\u001b[32m[I 2024-09-24 12:29:20,909]\u001b[0m Trial 62 finished with value: 17565.05561886289 and parameters: {'n_estimators': 113, 'max_depth': 32, 'max_features': 0.6588777781236558, 'min_samples_split': 2, 'min_samples_leaf': 1}. Best is trial 39 with value: 17254.72461427104.\u001b[0m\n",
      "\u001b[32m[I 2024-09-24 12:29:26,256]\u001b[0m Trial 63 finished with value: 17551.333708621278 and parameters: {'n_estimators': 208, 'max_depth': 30, 'max_features': 0.6221942491098069, 'min_samples_split': 3, 'min_samples_leaf': 3}. Best is trial 39 with value: 17254.72461427104.\u001b[0m\n",
      "\u001b[32m[I 2024-09-24 12:29:30,718]\u001b[0m Trial 64 finished with value: 17481.301437328988 and parameters: {'n_estimators': 170, 'max_depth': 27, 'max_features': 0.5428130875688084, 'min_samples_split': 2, 'min_samples_leaf': 2}. Best is trial 39 with value: 17254.72461427104.\u001b[0m\n",
      "\u001b[32m[I 2024-09-24 12:29:36,584]\u001b[0m Trial 65 finished with value: 17309.925922811777 and parameters: {'n_estimators': 202, 'max_depth': 23, 'max_features': 0.5758821002629241, 'min_samples_split': 4, 'min_samples_leaf': 1}. Best is trial 39 with value: 17254.72461427104.\u001b[0m\n",
      "\u001b[32m[I 2024-09-24 12:29:41,858]\u001b[0m Trial 66 finished with value: 17107.674272201046 and parameters: {'n_estimators': 203, 'max_depth': 23, 'max_features': 0.49665336515180075, 'min_samples_split': 4, 'min_samples_leaf': 1}. Best is trial 66 with value: 17107.674272201046.\u001b[0m\n",
      "\u001b[32m[I 2024-09-24 12:29:46,109]\u001b[0m Trial 67 finished with value: 17085.152419244943 and parameters: {'n_estimators': 203, 'max_depth': 22, 'max_features': 0.3780213221509267, 'min_samples_split': 4, 'min_samples_leaf': 1}. Best is trial 67 with value: 17085.152419244943.\u001b[0m\n",
      "\u001b[32m[I 2024-09-24 12:29:50,810]\u001b[0m Trial 68 finished with value: 17361.844536815966 and parameters: {'n_estimators': 201, 'max_depth': 22, 'max_features': 0.4625611159167641, 'min_samples_split': 5, 'min_samples_leaf': 1}. Best is trial 67 with value: 17085.152419244943.\u001b[0m\n",
      "\u001b[32m[I 2024-09-24 12:29:54,525]\u001b[0m Trial 69 finished with value: 16982.810666280282 and parameters: {'n_estimators': 199, 'max_depth': 19, 'max_features': 0.336962229416895, 'min_samples_split': 5, 'min_samples_leaf': 1}. Best is trial 69 with value: 16982.810666280282.\u001b[0m\n",
      "\u001b[32m[I 2024-09-24 12:29:57,718]\u001b[0m Trial 70 finished with value: 17351.685490233154 and parameters: {'n_estimators': 190, 'max_depth': 19, 'max_features': 0.3452793353725432, 'min_samples_split': 9, 'min_samples_leaf': 1}. Best is trial 69 with value: 16982.810666280282.\u001b[0m\n",
      "\u001b[32m[I 2024-09-24 12:30:00,930]\u001b[0m Trial 71 finished with value: 17473.374315911802 and parameters: {'n_estimators': 186, 'max_depth': 19, 'max_features': 0.363113474518544, 'min_samples_split': 9, 'min_samples_leaf': 1}. Best is trial 69 with value: 16982.810666280282.\u001b[0m\n",
      "\u001b[32m[I 2024-09-24 12:30:04,160]\u001b[0m Trial 72 finished with value: 17281.129278142784 and parameters: {'n_estimators': 198, 'max_depth': 18, 'max_features': 0.3197223404911841, 'min_samples_split': 8, 'min_samples_leaf': 1}. Best is trial 69 with value: 16982.810666280282.\u001b[0m\n",
      "\u001b[32m[I 2024-09-24 12:30:06,931]\u001b[0m Trial 73 finished with value: 17438.592313043926 and parameters: {'n_estimators': 197, 'max_depth': 17, 'max_features': 0.2831350932192823, 'min_samples_split': 10, 'min_samples_leaf': 1}. Best is trial 69 with value: 16982.810666280282.\u001b[0m\n",
      "\u001b[32m[I 2024-09-24 12:30:10,771]\u001b[0m Trial 74 finished with value: 17181.226069438628 and parameters: {'n_estimators': 231, 'max_depth': 20, 'max_features': 0.3308978559698149, 'min_samples_split': 8, 'min_samples_leaf': 1}. Best is trial 69 with value: 16982.810666280282.\u001b[0m\n",
      "\u001b[32m[I 2024-09-24 12:30:14,490]\u001b[0m Trial 75 finished with value: 17255.76756221417 and parameters: {'n_estimators': 229, 'max_depth': 20, 'max_features': 0.32042259241109466, 'min_samples_split': 8, 'min_samples_leaf': 1}. Best is trial 69 with value: 16982.810666280282.\u001b[0m\n",
      "\u001b[32m[I 2024-09-24 12:30:16,905]\u001b[0m Trial 76 finished with value: 17479.915322566463 and parameters: {'n_estimators': 232, 'max_depth': 20, 'max_features': 0.18912143580336604, 'min_samples_split': 8, 'min_samples_leaf': 2}. Best is trial 69 with value: 16982.810666280282.\u001b[0m\n",
      "\u001b[32m[I 2024-09-24 12:30:21,199]\u001b[0m Trial 77 finished with value: 17147.055490881765 and parameters: {'n_estimators': 250, 'max_depth': 18, 'max_features': 0.32251643164794214, 'min_samples_split': 7, 'min_samples_leaf': 1}. Best is trial 69 with value: 16982.810666280282.\u001b[0m\n",
      "\u001b[32m[I 2024-09-24 12:30:25,109]\u001b[0m Trial 78 finished with value: 17150.73199847195 and parameters: {'n_estimators': 253, 'max_depth': 16, 'max_features': 0.30341289479344874, 'min_samples_split': 7, 'min_samples_leaf': 2}. Best is trial 69 with value: 16982.810666280282.\u001b[0m\n",
      "\u001b[32m[I 2024-09-24 12:30:28,447]\u001b[0m Trial 79 finished with value: 17215.552978973028 and parameters: {'n_estimators': 250, 'max_depth': 17, 'max_features': 0.25043453163023865, 'min_samples_split': 7, 'min_samples_leaf': 2}. Best is trial 69 with value: 16982.810666280282.\u001b[0m\n",
      "\u001b[32m[I 2024-09-24 12:30:31,336]\u001b[0m Trial 80 finished with value: 17538.278613784547 and parameters: {'n_estimators': 245, 'max_depth': 13, 'max_features': 0.2511807604179801, 'min_samples_split': 7, 'min_samples_leaf': 4}. Best is trial 69 with value: 16982.810666280282.\u001b[0m\n",
      "\u001b[32m[I 2024-09-24 12:30:34,932]\u001b[0m Trial 81 finished with value: 17240.291478703537 and parameters: {'n_estimators': 257, 'max_depth': 16, 'max_features': 0.27471911990381687, 'min_samples_split': 7, 'min_samples_leaf': 2}. Best is trial 69 with value: 16982.810666280282.\u001b[0m\n",
      "\u001b[32m[I 2024-09-24 12:30:38,431]\u001b[0m Trial 82 finished with value: 17207.672568290833 and parameters: {'n_estimators': 256, 'max_depth': 16, 'max_features': 0.2655384472356792, 'min_samples_split': 7, 'min_samples_leaf': 2}. Best is trial 69 with value: 16982.810666280282.\u001b[0m\n",
      "\u001b[32m[I 2024-09-24 12:30:41,195]\u001b[0m Trial 83 finished with value: 17305.372251742556 and parameters: {'n_estimators': 255, 'max_depth': 16, 'max_features': 0.18050215530576033, 'min_samples_split': 7, 'min_samples_leaf': 2}. Best is trial 69 with value: 16982.810666280282.\u001b[0m\n",
      "\u001b[32m[I 2024-09-24 12:30:44,810]\u001b[0m Trial 84 finished with value: 17208.959952074867 and parameters: {'n_estimators': 276, 'max_depth': 16, 'max_features': 0.25974766315188585, 'min_samples_split': 6, 'min_samples_leaf': 3}. Best is trial 69 with value: 16982.810666280282.\u001b[0m\n",
      "\u001b[32m[I 2024-09-24 12:30:46,666]\u001b[0m Trial 85 finished with value: 18144.37142244678 and parameters: {'n_estimators': 277, 'max_depth': 13, 'max_features': 0.10000232255530556, 'min_samples_split': 10, 'min_samples_leaf': 3}. Best is trial 69 with value: 16982.810666280282.\u001b[0m\n",
      "\u001b[32m[I 2024-09-24 12:30:50,211]\u001b[0m Trial 86 finished with value: 17406.90017907566 and parameters: {'n_estimators': 289, 'max_depth': 17, 'max_features': 0.2348904721173292, 'min_samples_split': 6, 'min_samples_leaf': 3}. Best is trial 69 with value: 16982.810666280282.\u001b[0m\n",
      "\u001b[32m[I 2024-09-24 12:30:53,383]\u001b[0m Trial 87 finished with value: 18961.97380233402 and parameters: {'n_estimators': 269, 'max_depth': 14, 'max_features': 0.3801453796682513, 'min_samples_split': 6, 'min_samples_leaf': 12}. Best is trial 69 with value: 16982.810666280282.\u001b[0m\n",
      "\u001b[32m[I 2024-09-24 12:30:56,203]\u001b[0m Trial 88 finished with value: 17249.318231974605 and parameters: {'n_estimators': 242, 'max_depth': 18, 'max_features': 0.20893201047581528, 'min_samples_split': 7, 'min_samples_leaf': 2}. Best is trial 69 with value: 16982.810666280282.\u001b[0m\n",
      "\u001b[32m[I 2024-09-24 12:30:59,139]\u001b[0m Trial 89 finished with value: 18833.865813692097 and parameters: {'n_estimators': 250, 'max_depth': 10, 'max_features': 0.33739119827601366, 'min_samples_split': 6, 'min_samples_leaf': 11}. Best is trial 69 with value: 16982.810666280282.\u001b[0m\n",
      "\u001b[32m[I 2024-09-24 12:31:01,402]\u001b[0m Trial 90 finished with value: 19929.13527771224 and parameters: {'n_estimators': 260, 'max_depth': 15, 'max_features': 0.27123526121100405, 'min_samples_split': 5, 'min_samples_leaf': 17}. Best is trial 69 with value: 16982.810666280282.\u001b[0m\n",
      "\u001b[32m[I 2024-09-24 12:31:05,097]\u001b[0m Trial 91 finished with value: 17227.813351785524 and parameters: {'n_estimators': 256, 'max_depth': 16, 'max_features': 0.29999606481788577, 'min_samples_split': 7, 'min_samples_leaf': 2}. Best is trial 69 with value: 16982.810666280282.\u001b[0m\n",
      "\u001b[32m[I 2024-09-24 12:31:08,423]\u001b[0m Trial 92 finished with value: 17236.343676734425 and parameters: {'n_estimators': 238, 'max_depth': 18, 'max_features': 0.30293835788925777, 'min_samples_split': 7, 'min_samples_leaf': 3}. Best is trial 69 with value: 16982.810666280282.\u001b[0m\n",
      "\u001b[32m[I 2024-09-24 12:31:12,572]\u001b[0m Trial 93 finished with value: 17460.71014606807 and parameters: {'n_estimators': 252, 'max_depth': 16, 'max_features': 0.40622963996124156, 'min_samples_split': 9, 'min_samples_leaf': 4}. Best is trial 69 with value: 16982.810666280282.\u001b[0m\n",
      "\u001b[32m[I 2024-09-24 12:31:16,273]\u001b[0m Trial 94 finished with value: 17322.586189003792 and parameters: {'n_estimators': 298, 'max_depth': 19, 'max_features': 0.24987930536871866, 'min_samples_split': 8, 'min_samples_leaf': 2}. Best is trial 69 with value: 16982.810666280282.\u001b[0m\n",
      "\u001b[32m[I 2024-09-24 12:31:20,572]\u001b[0m Trial 95 finished with value: 17140.17638474335 and parameters: {'n_estimators': 274, 'max_depth': 22, 'max_features': 0.29739763880886294, 'min_samples_split': 6, 'min_samples_leaf': 1}. Best is trial 69 with value: 16982.810666280282.\u001b[0m\n",
      "\u001b[32m[I 2024-09-24 12:31:25,914]\u001b[0m Trial 96 finished with value: 17210.62458939481 and parameters: {'n_estimators': 283, 'max_depth': 22, 'max_features': 0.3627556470472749, 'min_samples_split': 5, 'min_samples_leaf': 1}. Best is trial 69 with value: 16982.810666280282.\u001b[0m\n",
      "\u001b[32m[I 2024-09-24 12:31:31,662]\u001b[0m Trial 97 finished with value: 17103.418282709405 and parameters: {'n_estimators': 286, 'max_depth': 22, 'max_features': 0.38160750508393054, 'min_samples_split': 5, 'min_samples_leaf': 1}. Best is trial 69 with value: 16982.810666280282.\u001b[0m\n",
      "\u001b[32m[I 2024-09-24 12:31:37,515]\u001b[0m Trial 98 finished with value: 17225.798849950155 and parameters: {'n_estimators': 274, 'max_depth': 21, 'max_features': 0.4304655298060245, 'min_samples_split': 6, 'min_samples_leaf': 1}. Best is trial 69 with value: 16982.810666280282.\u001b[0m\n",
      "\u001b[32m[I 2024-09-24 12:31:42,244]\u001b[0m Trial 99 finished with value: 17245.23916854026 and parameters: {'n_estimators': 262, 'max_depth': 20, 'max_features': 0.32722785653070574, 'min_samples_split': 5, 'min_samples_leaf': 1}. Best is trial 69 with value: 16982.810666280282.\u001b[0m\n"
     ]
    },
    {
     "name": "stdout",
     "output_type": "stream",
     "text": [
      "最优超参数为： {'n_estimators': 199, 'max_depth': 19, 'max_features': 0.336962229416895, 'min_samples_split': 5, 'min_samples_leaf': 1}\n",
      "最小误差为： 16982.810666280282\n"
     ]
    }
   ],
   "source": [
    "from sklearn.ensemble import RandomForestRegressor\n",
    "import optuna\n",
    "import numpy as np\n",
    "from sklearn.model_selection import cross_val_score\n",
    "\n",
    "\n",
    "# 建立随机森林模型\n",
    "def randomtree(trial):\n",
    "    # 进行超参数搜索\n",
    "    # 树的数量\n",
    "    n_estimators = trial.suggest_int(\"n_estimators\", 10, 300)\n",
    "    # 树的深度\n",
    "    max_depth = trial.suggest_int(\"max_depth\", 2, 32)\n",
    "    # 每棵树使用的最大特征数（使用浮点数）\n",
    "    max_features = trial.suggest_float(\"max_features\", 0.1, 1.0)\n",
    "    # 内部节点划分所需的最小样本数\n",
    "    min_samples_split = trial.suggest_int(\"min_samples_split\", 2, 20)\n",
    "    # 叶节点所需的最小样本数\n",
    "    min_samples_leaf = trial.suggest_int(\"min_samples_leaf\", 1, 20)\n",
    "\n",
    "    model = RandomForestRegressor(\n",
    "        n_estimators=n_estimators,\n",
    "        max_depth=max_depth,\n",
    "        max_features=max_features,\n",
    "        min_samples_split=min_samples_split,\n",
    "        min_samples_leaf=min_samples_leaf,\n",
    "        random_state=0,\n",
    "    )\n",
    "\n",
    "    # 计算交叉验证的平均误差\n",
    "    MAE = -np.mean(\n",
    "        cross_val_score(\n",
    "            model, train_X, train_y, cv=5, scoring=\"neg_mean_absolute_error\"\n",
    "        )\n",
    "    )\n",
    "\n",
    "    return MAE\n",
    "\n",
    "\n",
    "# 创建Optuna对象选择最佳超参数，设定优化方向为最小化 MAE\n",
    "param_study = optuna.create_study(direction=\"minimize\")\n",
    "\n",
    "# 定义训练次数\n",
    "param_study.optimize(randomtree, n_trials=100)\n",
    "\n",
    "# 输出最优超参数\n",
    "print(\"最优超参数为：\", param_study.best_params)\n",
    "print(\"最小误差为：\", param_study.best_value)"
   ]
  },
  {
   "cell_type": "code",
   "execution_count": 54,
   "metadata": {},
   "outputs": [],
   "source": [
    "# 选择最佳超参数\n",
    "best_params = param_study.best_params\n",
    "\n",
    "# 定义模型\n",
    "best_model = RandomForestRegressor(\n",
    "    n_estimators=best_params[\"n_estimators\"],\n",
    "    max_depth=best_params[\"max_depth\"],\n",
    "    max_features=best_params[\"max_features\"],\n",
    "    min_samples_split=best_params[\"min_samples_split\"],\n",
    "    min_samples_leaf=best_params[\"min_samples_leaf\"],\n",
    "    random_state=0,\n",
    ")\n",
    "\n",
    "best_model.fit(train_X, train_y)\n",
    "# 验证集进行预测\n",
    "best_pred = best_model.predict(X_test)\n",
    "# 保存输出\n",
    "output = pd.DataFrame({\"Id\": X_test.index, \"SalePrice\": best_pred})\n",
    "\n",
    "output.to_csv(\"submit.csv\", index=False)"
   ]
  },
  {
   "cell_type": "code",
   "execution_count": 55,
   "metadata": {},
   "outputs": [
    {
     "data": {
      "text/html": [
       "<div>\n",
       "<style scoped>\n",
       "    .dataframe tbody tr th:only-of-type {\n",
       "        vertical-align: middle;\n",
       "    }\n",
       "\n",
       "    .dataframe tbody tr th {\n",
       "        vertical-align: top;\n",
       "    }\n",
       "\n",
       "    .dataframe thead th {\n",
       "        text-align: right;\n",
       "    }\n",
       "</style>\n",
       "<table border=\"1\" class=\"dataframe\">\n",
       "  <thead>\n",
       "    <tr style=\"text-align: right;\">\n",
       "      <th></th>\n",
       "      <th>Id</th>\n",
       "      <th>SalePrice</th>\n",
       "    </tr>\n",
       "  </thead>\n",
       "  <tbody>\n",
       "    <tr>\n",
       "      <th>0</th>\n",
       "      <td>1461</td>\n",
       "      <td>128578.086009</td>\n",
       "    </tr>\n",
       "    <tr>\n",
       "      <th>1</th>\n",
       "      <td>1462</td>\n",
       "      <td>154034.017286</td>\n",
       "    </tr>\n",
       "    <tr>\n",
       "      <th>2</th>\n",
       "      <td>1463</td>\n",
       "      <td>181128.766881</td>\n",
       "    </tr>\n",
       "    <tr>\n",
       "      <th>3</th>\n",
       "      <td>1464</td>\n",
       "      <td>187357.927054</td>\n",
       "    </tr>\n",
       "    <tr>\n",
       "      <th>4</th>\n",
       "      <td>1465</td>\n",
       "      <td>199931.002056</td>\n",
       "    </tr>\n",
       "    <tr>\n",
       "      <th>...</th>\n",
       "      <td>...</td>\n",
       "      <td>...</td>\n",
       "    </tr>\n",
       "    <tr>\n",
       "      <th>1454</th>\n",
       "      <td>2915</td>\n",
       "      <td>88085.053403</td>\n",
       "    </tr>\n",
       "    <tr>\n",
       "      <th>1455</th>\n",
       "      <td>2916</td>\n",
       "      <td>89395.901085</td>\n",
       "    </tr>\n",
       "    <tr>\n",
       "      <th>1456</th>\n",
       "      <td>2917</td>\n",
       "      <td>155574.145166</td>\n",
       "    </tr>\n",
       "    <tr>\n",
       "      <th>1457</th>\n",
       "      <td>2918</td>\n",
       "      <td>112822.293317</td>\n",
       "    </tr>\n",
       "    <tr>\n",
       "      <th>1458</th>\n",
       "      <td>2919</td>\n",
       "      <td>238810.067622</td>\n",
       "    </tr>\n",
       "  </tbody>\n",
       "</table>\n",
       "<p>1459 rows × 2 columns</p>\n",
       "</div>"
      ],
      "text/plain": [
       "        Id      SalePrice\n",
       "0     1461  128578.086009\n",
       "1     1462  154034.017286\n",
       "2     1463  181128.766881\n",
       "3     1464  187357.927054\n",
       "4     1465  199931.002056\n",
       "...    ...            ...\n",
       "1454  2915   88085.053403\n",
       "1455  2916   89395.901085\n",
       "1456  2917  155574.145166\n",
       "1457  2918  112822.293317\n",
       "1458  2919  238810.067622\n",
       "\n",
       "[1459 rows x 2 columns]"
      ]
     },
     "execution_count": 55,
     "metadata": {},
     "output_type": "execute_result"
    }
   ],
   "source": [
    "output"
   ]
  }
 ],
 "metadata": {
  "kernelspec": {
   "display_name": "Python 3",
   "language": "python",
   "name": "python3"
  },
  "language_info": {
   "codemirror_mode": {
    "name": "ipython",
    "version": 3
   },
   "file_extension": ".py",
   "mimetype": "text/x-python",
   "name": "python",
   "nbconvert_exporter": "python",
   "pygments_lexer": "ipython3",
   "version": "3.8.19"
  }
 },
 "nbformat": 4,
 "nbformat_minor": 0
}
